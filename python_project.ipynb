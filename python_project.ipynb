#@title Default title text
import qrcode
import image
qr=qrcode.QRCode(
    version=15,
    box_size=10,
    border=5
)

data="http://52.66.30.236/moodle/"
qr.add_data(data)
qr.make(fit=True)
img=qr.make_image(fill="black",black_color="white")
img.save("test.png")
